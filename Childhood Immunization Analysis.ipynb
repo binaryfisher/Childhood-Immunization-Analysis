{
 "cells": [
  {
   "cell_type": "markdown",
   "metadata": {
    "deletable": false,
    "editable": false,
    "etc_identifier": "373a3605-5bda-4e1f-beef-04a0173d3f41",
    "nbgrader": {
     "cell_type": "markdown",
     "checksum": "ea942292eff37b50f364f842bcdd8ad9",
     "grade": false,
     "grade_id": "cell-a839e7b47494b4c3",
     "locked": true,
     "schema_version": 3,
     "solution": false
    },
    "tags": []
   },
   "source": [
    "\n",
    "\n",
    "In this project, I conducted an in-depth analysis on 2017 CDC data about childhood immunizations. The goal was to uncover key insights regarding immunization rates, vaccine effectiveness, and correlations between various factors."
   ]
  },
  {
   "cell_type": "markdown",
   "metadata": {
    "deletable": false,
    "editable": false,
    "hideCode": false,
    "hidePrompt": false,
    "nbgrader": {
     "cell_type": "markdown",
     "checksum": "f85bd44672080d80abd2a7f47aa0f1be",
     "grade": false,
     "grade_id": "cell-58fc2e5938733f6a",
     "locked": true,
     "schema_version": 3,
     "solution": false
    }
   },
   "source": [
    "## task 1\n",
    "Write a function called `proportion_of_education` which returns the proportion of children in the dataset who had a mother with the education levels equal to less than high school (<12), high school (12), more than high school but not a college graduate (>12) and college degree.\n"
   ]
  },
  {
   "cell_type": "code",
   "execution_count": null,
   "metadata": {
    "deletable": false,
    "nbgrader": {
     "cell_type": "code",
     "checksum": "0ac58deb3f5ac988c643e903cbee7f3a",
     "grade": false,
     "grade_id": "cell-eea16d020eb52ae7",
     "locked": false,
     "schema_version": 3,
     "solution": true
    }
   },
   "outputs": [],
   "source": [
    "def proportion_of_education():\n",
    "    import pandas as pd\n",
    "    df = pd.read_csv(\"assets/NISPUF17.csv\")\n",
    "    total = len(df)\n",
    "    less_than_hs = len(df[df['EDUC1'] == 1]) / total\n",
    "    high_school = len(df[df['EDUC1'] == 2]) / total\n",
    "    more_than_hs = len(df[df['EDUC1'] == 3]) / total\n",
    "    college = len(df[df['EDUC1'] == 4]) / total\n",
    "    return {\"less than high school\":less_than_hs,\n",
    "    \"high school\":high_school,\n",
    "    \"more than high school but not college\":more_than_hs,\n",
    "    \"college\":college}\n",
    "    "
   ]
  },
  {
   "cell_type": "markdown",
   "metadata": {
    "deletable": false,
    "editable": false,
    "nbgrader": {
     "cell_type": "markdown",
     "checksum": "562b78b7b9b79580269be0a3bebf4b42",
     "grade": false,
     "grade_id": "cell-8fcbb64516283f52",
     "locked": true,
     "schema_version": 3,
     "solution": false
    }
   },
   "source": [
    "## task 2\n",
    "\n",
    "Explore the relationship between being fed breastmilk as a child and getting a seasonal influenza vaccine from a healthcare provider. Return a tuple of the average number of influenza vaccines for those children we know received breastmilk as a child and those who know did not.\n"
   ]
  },
  {
   "cell_type": "code",
   "execution_count": null,
   "metadata": {
    "deletable": false,
    "nbgrader": {
     "cell_type": "code",
     "checksum": "a405d639063c4a6408365479f29c95c9",
     "grade": false,
     "grade_id": "cell-77f18c512324eabb",
     "locked": false,
     "schema_version": 3,
     "solution": true
    }
   },
   "outputs": [],
   "source": [
    "def average_influenza_doses():\n",
    "    # YOUR CODE HERE\n",
    "    import pandas as pd\n",
    "    df = pd.read_csv(\"assets/NISPUF17.csv\")\n",
    "    avg_breastfed = df[df['CBF_01'] == 1]['P_NUMFLU'].mean()\n",
    "    avg_not_breastfed = df[df['CBF_01'] == 2]['P_NUMFLU'].mean()\n",
    "    return (avg_breastfed, avg_not_breastfed)\n",
    "    "
   ]
  },
  {
   "cell_type": "markdown",
   "metadata": {
    "deletable": false,
    "editable": false,
    "nbgrader": {
     "cell_type": "markdown",
     "checksum": "e10e2163f5957a0c398ef4f0b76b4efe",
     "grade": false,
     "grade_id": "cell-f63377f3c97aa7c4",
     "locked": true,
     "schema_version": 3,
     "solution": false
    }
   },
   "source": [
    "## task 3\n",
    "Calculate the ratio of the number of children who contracted chickenpox but were vaccinated against it (at least one varicella dose) versus those who were vaccinated but did not contract chicken pox. Return results by sex. \n"
   ]
  },
  {
   "cell_type": "code",
   "execution_count": null,
   "metadata": {
    "deletable": false,
    "nbgrader": {
     "cell_type": "code",
     "checksum": "b4d1b58acae002bc73eb0b19f95bc4af",
     "grade": false,
     "grade_id": "cell-a0a9e6fe67698006",
     "locked": false,
     "schema_version": 3,
     "solution": true
    }
   },
   "outputs": [],
   "source": [
    "def chickenpox_by_sex():\n",
    "    # Load the dataset\n",
    "    import pandas as pd\n",
    "    df = pd.read_csv(\"assets/NISPUF17.csv\")\n",
    "    \n",
    "    # Filter out data where the number of varicella doses or the chickenpox status is unknown\n",
    "    df = df[df['P_NUMVRC'].notna() & df['HAD_CPOX'].isin([1,2])]\n",
    "    \n",
    "    # Function to compute the ratio for a given sex\n",
    "    def compute_ratio(sex_code):\n",
    "        vaccinated_had_cpox = len(df[(df['SEX'] == sex_code) & (df['P_NUMVRC'] > 0) & (df['HAD_CPOX'] == 1)])\n",
    "        vaccinated_no_cpox = len(df[(df['SEX'] == sex_code) & (df['P_NUMVRC'] > 0) & (df['HAD_CPOX'] == 2)])\n",
    "        return vaccinated_had_cpox / vaccinated_no_cpox\n",
    "\n",
    "    # Compute the ratios for males and females\n",
    "    male_ratio = compute_ratio(1)\n",
    "    female_ratio = compute_ratio(2)\n",
    "    \n",
    "    return {\n",
    "        \"male\": male_ratio,\n",
    "        \"female\": female_ratio\n",
    "    }"
   ]
  },
  {
   "cell_type": "markdown",
   "metadata": {},
   "source": [
    "## task 4\n",
    "A correlation is a statistical relationship between two variables. Check if there is a correlation between having had the chicken pox and the number of chickenpox vaccine doses given (varicella).\n",
    "\n"
   ]
  },
  {
   "cell_type": "code",
   "execution_count": null,
   "metadata": {
    "deletable": false,
    "nbgrader": {
     "cell_type": "code",
     "checksum": "3e645859949447913cd11d30eb33cb1e",
     "grade": false,
     "grade_id": "cell-8afff07f564cf79a",
     "locked": false,
     "schema_version": 3,
     "solution": true
    }
   },
   "outputs": [],
   "source": [
    "def corr_chickenpox():\n",
    "    import scipy.stats as stats\n",
    "    import numpy as np\n",
    "    import pandas as pd\n",
    "    \n",
    "    # this is just an example dataframe\n",
    "    df = pd.read_csv(\"assets/NISPUF17.csv\")\n",
    "    df_clean = df[df['P_NUMVRC'].notna() & df['HAD_CPOX'].isin([1, 2])]\n",
    "\n",
    "    # here is some stub code to actually run the correlation\n",
    "    corr, pval=stats.pearsonr(df_clean['HAD_CPOX'], df_clean['P_NUMVRC'])\n",
    "    return corr\n",
    "    \n",
    "   "
   ]
  }
 ],
 "metadata": {
  "anaconda-cloud": {},
  "hide_code_all_hidden": false,
  "kernelspec": {
   "display_name": "Python 3 (ipykernel)",
   "language": "python",
   "name": "python3"
  },
  "language_info": {
   "codemirror_mode": {
    "name": "ipython",
    "version": 3
   },
   "file_extension": ".py",
   "mimetype": "text/x-python",
   "name": "python",
   "nbconvert_exporter": "python",
   "pygments_lexer": "ipython3",
   "version": "3.9.13"
  }
 },
 "nbformat": 4,
 "nbformat_minor": 4
}
